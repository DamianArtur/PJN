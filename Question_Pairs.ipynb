{
 "cells": [
  {
   "cell_type": "markdown",
   "id": "805f4773-48e3-4e68-8758-c942f80396d0",
   "metadata": {},
   "source": [
    "### Imports"
   ]
  },
  {
   "cell_type": "code",
   "execution_count": 1,
   "id": "7696f83b-424d-45f0-9987-87baeafe30f0",
   "metadata": {},
   "outputs": [],
   "source": [
    "import time\n",
    "import pandas as pd\n",
    "import numpy as np\n",
    "import matplotlib.pyplot as plt\n",
    "import re"
   ]
  },
  {
   "cell_type": "code",
   "execution_count": 2,
   "id": "6d3257b3-ef31-4968-879f-68f8ecc4be72",
   "metadata": {},
   "outputs": [],
   "source": [
    "import nltk\n",
    "from nltk.tokenize import casual_tokenize\n",
    "from nltk.stem import PorterStemmer\n",
    "from sklearn.feature_extraction.text import TfidfVectorizer"
   ]
  },
  {
   "cell_type": "code",
   "execution_count": 3,
   "id": "4c3bb193-90ee-4d10-8fc2-5969162b2565",
   "metadata": {},
   "outputs": [
    {
     "name": "stderr",
     "output_type": "stream",
     "text": [
      "2024-01-29 21:02:30.357353: I tensorflow/core/util/port.cc:111] oneDNN custom operations are on. You may see slightly different numerical results due to floating-point round-off errors from different computation orders. To turn them off, set the environment variable `TF_ENABLE_ONEDNN_OPTS=0`.\n",
      "2024-01-29 21:02:30.358872: I tensorflow/tsl/cuda/cudart_stub.cc:28] Could not find cuda drivers on your machine, GPU will not be used.\n",
      "2024-01-29 21:02:30.382061: E tensorflow/compiler/xla/stream_executor/cuda/cuda_dnn.cc:9342] Unable to register cuDNN factory: Attempting to register factory for plugin cuDNN when one has already been registered\n",
      "2024-01-29 21:02:30.382089: E tensorflow/compiler/xla/stream_executor/cuda/cuda_fft.cc:609] Unable to register cuFFT factory: Attempting to register factory for plugin cuFFT when one has already been registered\n",
      "2024-01-29 21:02:30.382107: E tensorflow/compiler/xla/stream_executor/cuda/cuda_blas.cc:1518] Unable to register cuBLAS factory: Attempting to register factory for plugin cuBLAS when one has already been registered\n",
      "2024-01-29 21:02:30.386693: I tensorflow/tsl/cuda/cudart_stub.cc:28] Could not find cuda drivers on your machine, GPU will not be used.\n",
      "2024-01-29 21:02:30.387131: I tensorflow/core/platform/cpu_feature_guard.cc:182] This TensorFlow binary is optimized to use available CPU instructions in performance-critical operations.\n",
      "To enable the following instructions: AVX2 AVX512F AVX512_VNNI FMA, in other operations, rebuild TensorFlow with the appropriate compiler flags.\n",
      "2024-01-29 21:02:30.981549: W tensorflow/compiler/tf2tensorrt/utils/py_utils.cc:38] TF-TRT Warning: Could not find TensorRT\n"
     ]
    }
   ],
   "source": [
    "import tensorflow as tf\n",
    "from sklearn.model_selection import train_test_split\n",
    "from sklearn.metrics import accuracy_score, classification_report, ConfusionMatrixDisplay, confusion_matrix\n",
    "from keras.models import Model\n",
    "from keras.layers import Dense, Concatenate, Input, Dropout, BatchNormalization\n",
    "from keras.optimizers import Adam\n",
    "from keras.callbacks import EarlyStopping\n",
    "import optuna"
   ]
  },
  {
   "cell_type": "code",
   "execution_count": 4,
   "id": "f4a9fe1a-d298-46d3-a583-c2632eab1642",
   "metadata": {},
   "outputs": [
    {
     "name": "stderr",
     "output_type": "stream",
     "text": [
      "[nltk_data] Downloading package punkt to /home/damian/nltk_data...\n",
      "[nltk_data]   Package punkt is already up-to-date!\n"
     ]
    },
    {
     "data": {
      "text/plain": [
       "True"
      ]
     },
     "execution_count": 4,
     "metadata": {},
     "output_type": "execute_result"
    }
   ],
   "source": [
    "nltk.download('punkt')"
   ]
  },
  {
   "cell_type": "markdown",
   "id": "a6f6e4ee-36b0-4881-a0c7-777932119a0f",
   "metadata": {
    "jp-MarkdownHeadingCollapsed": true
   },
   "source": [
    "### Reading data"
   ]
  },
  {
   "cell_type": "code",
   "execution_count": 5,
   "id": "6773e44c-d0cc-4078-adfc-97ec7c284aff",
   "metadata": {},
   "outputs": [
    {
     "data": {
      "text/html": [
       "<div>\n",
       "<style scoped>\n",
       "    .dataframe tbody tr th:only-of-type {\n",
       "        vertical-align: middle;\n",
       "    }\n",
       "\n",
       "    .dataframe tbody tr th {\n",
       "        vertical-align: top;\n",
       "    }\n",
       "\n",
       "    .dataframe thead th {\n",
       "        text-align: right;\n",
       "    }\n",
       "</style>\n",
       "<table border=\"1\" class=\"dataframe\">\n",
       "  <thead>\n",
       "    <tr style=\"text-align: right;\">\n",
       "      <th></th>\n",
       "      <th>id</th>\n",
       "      <th>qid1</th>\n",
       "      <th>qid2</th>\n",
       "      <th>question1</th>\n",
       "      <th>question2</th>\n",
       "      <th>is_duplicate</th>\n",
       "    </tr>\n",
       "  </thead>\n",
       "  <tbody>\n",
       "    <tr>\n",
       "      <th>0</th>\n",
       "      <td>0</td>\n",
       "      <td>1</td>\n",
       "      <td>2</td>\n",
       "      <td>What is the step by step guide to invest in sh...</td>\n",
       "      <td>What is the step by step guide to invest in sh...</td>\n",
       "      <td>0</td>\n",
       "    </tr>\n",
       "    <tr>\n",
       "      <th>1</th>\n",
       "      <td>1</td>\n",
       "      <td>3</td>\n",
       "      <td>4</td>\n",
       "      <td>What is the story of Kohinoor (Koh-i-Noor) Dia...</td>\n",
       "      <td>What would happen if the Indian government sto...</td>\n",
       "      <td>0</td>\n",
       "    </tr>\n",
       "    <tr>\n",
       "      <th>2</th>\n",
       "      <td>2</td>\n",
       "      <td>5</td>\n",
       "      <td>6</td>\n",
       "      <td>How can I increase the speed of my internet co...</td>\n",
       "      <td>How can Internet speed be increased by hacking...</td>\n",
       "      <td>0</td>\n",
       "    </tr>\n",
       "    <tr>\n",
       "      <th>3</th>\n",
       "      <td>3</td>\n",
       "      <td>7</td>\n",
       "      <td>8</td>\n",
       "      <td>Why am I mentally very lonely? How can I solve...</td>\n",
       "      <td>Find the remainder when [math]23^{24}[/math] i...</td>\n",
       "      <td>0</td>\n",
       "    </tr>\n",
       "    <tr>\n",
       "      <th>4</th>\n",
       "      <td>4</td>\n",
       "      <td>9</td>\n",
       "      <td>10</td>\n",
       "      <td>Which one dissolve in water quikly sugar, salt...</td>\n",
       "      <td>Which fish would survive in salt water?</td>\n",
       "      <td>0</td>\n",
       "    </tr>\n",
       "    <tr>\n",
       "      <th>...</th>\n",
       "      <td>...</td>\n",
       "      <td>...</td>\n",
       "      <td>...</td>\n",
       "      <td>...</td>\n",
       "      <td>...</td>\n",
       "      <td>...</td>\n",
       "    </tr>\n",
       "    <tr>\n",
       "      <th>404285</th>\n",
       "      <td>404285</td>\n",
       "      <td>433578</td>\n",
       "      <td>379845</td>\n",
       "      <td>How many keywords are there in the Racket prog...</td>\n",
       "      <td>How many keywords are there in PERL Programmin...</td>\n",
       "      <td>0</td>\n",
       "    </tr>\n",
       "    <tr>\n",
       "      <th>404286</th>\n",
       "      <td>404286</td>\n",
       "      <td>18840</td>\n",
       "      <td>155606</td>\n",
       "      <td>Do you believe there is life after death?</td>\n",
       "      <td>Is it true that there is life after death?</td>\n",
       "      <td>1</td>\n",
       "    </tr>\n",
       "    <tr>\n",
       "      <th>404287</th>\n",
       "      <td>404287</td>\n",
       "      <td>537928</td>\n",
       "      <td>537929</td>\n",
       "      <td>What is one coin?</td>\n",
       "      <td>What's this coin?</td>\n",
       "      <td>0</td>\n",
       "    </tr>\n",
       "    <tr>\n",
       "      <th>404288</th>\n",
       "      <td>404288</td>\n",
       "      <td>537930</td>\n",
       "      <td>537931</td>\n",
       "      <td>What is the approx annual cost of living while...</td>\n",
       "      <td>I am having little hairfall problem but I want...</td>\n",
       "      <td>0</td>\n",
       "    </tr>\n",
       "    <tr>\n",
       "      <th>404289</th>\n",
       "      <td>404289</td>\n",
       "      <td>537932</td>\n",
       "      <td>537933</td>\n",
       "      <td>What is like to have sex with cousin?</td>\n",
       "      <td>What is it like to have sex with your cousin?</td>\n",
       "      <td>0</td>\n",
       "    </tr>\n",
       "  </tbody>\n",
       "</table>\n",
       "<p>404287 rows × 6 columns</p>\n",
       "</div>"
      ],
      "text/plain": [
       "            id    qid1    qid2  \\\n",
       "0            0       1       2   \n",
       "1            1       3       4   \n",
       "2            2       5       6   \n",
       "3            3       7       8   \n",
       "4            4       9      10   \n",
       "...        ...     ...     ...   \n",
       "404285  404285  433578  379845   \n",
       "404286  404286   18840  155606   \n",
       "404287  404287  537928  537929   \n",
       "404288  404288  537930  537931   \n",
       "404289  404289  537932  537933   \n",
       "\n",
       "                                                question1  \\\n",
       "0       What is the step by step guide to invest in sh...   \n",
       "1       What is the story of Kohinoor (Koh-i-Noor) Dia...   \n",
       "2       How can I increase the speed of my internet co...   \n",
       "3       Why am I mentally very lonely? How can I solve...   \n",
       "4       Which one dissolve in water quikly sugar, salt...   \n",
       "...                                                   ...   \n",
       "404285  How many keywords are there in the Racket prog...   \n",
       "404286          Do you believe there is life after death?   \n",
       "404287                                  What is one coin?   \n",
       "404288  What is the approx annual cost of living while...   \n",
       "404289              What is like to have sex with cousin?   \n",
       "\n",
       "                                                question2  is_duplicate  \n",
       "0       What is the step by step guide to invest in sh...             0  \n",
       "1       What would happen if the Indian government sto...             0  \n",
       "2       How can Internet speed be increased by hacking...             0  \n",
       "3       Find the remainder when [math]23^{24}[/math] i...             0  \n",
       "4                 Which fish would survive in salt water?             0  \n",
       "...                                                   ...           ...  \n",
       "404285  How many keywords are there in PERL Programmin...             0  \n",
       "404286         Is it true that there is life after death?             1  \n",
       "404287                                  What's this coin?             0  \n",
       "404288  I am having little hairfall problem but I want...             0  \n",
       "404289      What is it like to have sex with your cousin?             0  \n",
       "\n",
       "[404287 rows x 6 columns]"
      ]
     },
     "execution_count": 5,
     "metadata": {},
     "output_type": "execute_result"
    }
   ],
   "source": [
    "df = pd.read_csv('train.csv', header=0)\n",
    "df = df.dropna(axis=0)\n",
    "df"
   ]
  },
  {
   "cell_type": "code",
   "execution_count": 6,
   "id": "efdab184-6f48-4094-b812-627d5b14f767",
   "metadata": {},
   "outputs": [
    {
     "data": {
      "image/png": "[encoded data removed]",
      "text/plain": [
       "<Figure size 640x480 with 1 Axes>"
      ]
     },
     "metadata": {},
     "output_type": "display_data"
    }
   ],
   "source": [
    "df['is_duplicate'].astype('category').value_counts().plot.bar()\n",
    "plt.show()"
   ]
  },
  {
   "cell_type": "markdown",
   "id": "95420326-611f-47d0-9480-d76828cdd8ae",
   "metadata": {
    "jp-MarkdownHeadingCollapsed": true
   },
   "source": [
    "### Text preprocess"
   ]
  },
  {
   "cell_type": "code",
   "execution_count": 7,
   "id": "23947396-7aa7-4540-a092-a1273a13c941",
   "metadata": {},
   "outputs": [],
   "source": [
    "def process_text(text):\n",
    "\n",
    "    text = text.lower()\n",
    "    tokens = casual_tokenize(text)\n",
    "    tokens = [re.sub(r'[^a-zA-Z]', '', token) for token in tokens]\n",
    "    stemmer = PorterStemmer()\n",
    "    stemmed_tokens = [stemmer.stem(token) for token in tokens]\n",
    "    processed_text = \" \".join(stemmed_tokens)\n",
    "    \n",
    "    return processed_text"
   ]
  },
  {
   "cell_type": "code",
   "execution_count": 8,
   "id": "8b77e15c-11c6-41e9-9a1a-b5b83dc20e8b",
   "metadata": {},
   "outputs": [
    {
     "data": {
      "text/html": [
       "<div>\n",
       "<style scoped>\n",
       "    .dataframe tbody tr th:only-of-type {\n",
       "        vertical-align: middle;\n",
       "    }\n",
       "\n",
       "    .dataframe tbody tr th {\n",
       "        vertical-align: top;\n",
       "    }\n",
       "\n",
       "    .dataframe thead th {\n",
       "        text-align: right;\n",
       "    }\n",
       "</style>\n",
       "<table border=\"1\" class=\"dataframe\">\n",
       "  <thead>\n",
       "    <tr style=\"text-align: right;\">\n",
       "      <th></th>\n",
       "      <th>id</th>\n",
       "      <th>qid1</th>\n",
       "      <th>qid2</th>\n",
       "      <th>question1</th>\n",
       "      <th>question2</th>\n",
       "      <th>is_duplicate</th>\n",
       "    </tr>\n",
       "  </thead>\n",
       "  <tbody>\n",
       "    <tr>\n",
       "      <th>0</th>\n",
       "      <td>0</td>\n",
       "      <td>1</td>\n",
       "      <td>2</td>\n",
       "      <td>what is the step by step guid to invest in sha...</td>\n",
       "      <td>what is the step by step guid to invest in sha...</td>\n",
       "      <td>0</td>\n",
       "    </tr>\n",
       "    <tr>\n",
       "      <th>1</th>\n",
       "      <td>1</td>\n",
       "      <td>3</td>\n",
       "      <td>4</td>\n",
       "      <td>what is the stori of kohinoor  kohinoor  diamond</td>\n",
       "      <td>what would happen if the indian govern stole t...</td>\n",
       "      <td>0</td>\n",
       "    </tr>\n",
       "    <tr>\n",
       "      <th>2</th>\n",
       "      <td>2</td>\n",
       "      <td>5</td>\n",
       "      <td>6</td>\n",
       "      <td>how can i increas the speed of my internet con...</td>\n",
       "      <td>how can internet speed be increas by hack thro...</td>\n",
       "      <td>0</td>\n",
       "    </tr>\n",
       "    <tr>\n",
       "      <th>3</th>\n",
       "      <td>3</td>\n",
       "      <td>7</td>\n",
       "      <td>8</td>\n",
       "      <td>whi am i mental veri lone  how can i solv it</td>\n",
       "      <td>find the remaind when  math         math  is d...</td>\n",
       "      <td>0</td>\n",
       "    </tr>\n",
       "    <tr>\n",
       "      <th>4</th>\n",
       "      <td>4</td>\n",
       "      <td>9</td>\n",
       "      <td>10</td>\n",
       "      <td>which one dissolv in water quikli sugar  salt ...</td>\n",
       "      <td>which fish would surviv in salt water</td>\n",
       "      <td>0</td>\n",
       "    </tr>\n",
       "    <tr>\n",
       "      <th>...</th>\n",
       "      <td>...</td>\n",
       "      <td>...</td>\n",
       "      <td>...</td>\n",
       "      <td>...</td>\n",
       "      <td>...</td>\n",
       "      <td>...</td>\n",
       "    </tr>\n",
       "    <tr>\n",
       "      <th>404285</th>\n",
       "      <td>404285</td>\n",
       "      <td>433578</td>\n",
       "      <td>379845</td>\n",
       "      <td>how mani keyword are there in the racket progr...</td>\n",
       "      <td>how mani keyword are there in perl program lan...</td>\n",
       "      <td>0</td>\n",
       "    </tr>\n",
       "    <tr>\n",
       "      <th>404286</th>\n",
       "      <td>404286</td>\n",
       "      <td>18840</td>\n",
       "      <td>155606</td>\n",
       "      <td>do you believ there is life after death</td>\n",
       "      <td>is it true that there is life after death</td>\n",
       "      <td>1</td>\n",
       "    </tr>\n",
       "    <tr>\n",
       "      <th>404287</th>\n",
       "      <td>404287</td>\n",
       "      <td>537928</td>\n",
       "      <td>537929</td>\n",
       "      <td>what is one coin</td>\n",
       "      <td>what thi coin</td>\n",
       "      <td>0</td>\n",
       "    </tr>\n",
       "    <tr>\n",
       "      <th>404288</th>\n",
       "      <td>404288</td>\n",
       "      <td>537930</td>\n",
       "      <td>537931</td>\n",
       "      <td>what is the approx annual cost of live while s...</td>\n",
       "      <td>i am have littl hairfal problem but i want to ...</td>\n",
       "      <td>0</td>\n",
       "    </tr>\n",
       "    <tr>\n",
       "      <th>404289</th>\n",
       "      <td>404289</td>\n",
       "      <td>537932</td>\n",
       "      <td>537933</td>\n",
       "      <td>what is like to have sex with cousin</td>\n",
       "      <td>what is it like to have sex with your cousin</td>\n",
       "      <td>0</td>\n",
       "    </tr>\n",
       "  </tbody>\n",
       "</table>\n",
       "<p>404287 rows × 6 columns</p>\n",
       "</div>"
      ],
      "text/plain": [
       "            id    qid1    qid2  \\\n",
       "0            0       1       2   \n",
       "1            1       3       4   \n",
       "2            2       5       6   \n",
       "3            3       7       8   \n",
       "4            4       9      10   \n",
       "...        ...     ...     ...   \n",
       "404285  404285  433578  379845   \n",
       "404286  404286   18840  155606   \n",
       "404287  404287  537928  537929   \n",
       "404288  404288  537930  537931   \n",
       "404289  404289  537932  537933   \n",
       "\n",
       "                                                question1  \\\n",
       "0       what is the step by step guid to invest in sha...   \n",
       "1       what is the stori of kohinoor  kohinoor  diamond    \n",
       "2       how can i increas the speed of my internet con...   \n",
       "3           whi am i mental veri lone  how can i solv it    \n",
       "4       which one dissolv in water quikli sugar  salt ...   \n",
       "...                                                   ...   \n",
       "404285  how mani keyword are there in the racket progr...   \n",
       "404286           do you believ there is life after death    \n",
       "404287                                  what is one coin    \n",
       "404288  what is the approx annual cost of live while s...   \n",
       "404289              what is like to have sex with cousin    \n",
       "\n",
       "                                                question2  is_duplicate  \n",
       "0       what is the step by step guid to invest in sha...             0  \n",
       "1       what would happen if the indian govern stole t...             0  \n",
       "2       how can internet speed be increas by hack thro...             0  \n",
       "3       find the remaind when  math         math  is d...             0  \n",
       "4                  which fish would surviv in salt water              0  \n",
       "...                                                   ...           ...  \n",
       "404285  how mani keyword are there in perl program lan...             0  \n",
       "404286         is it true that there is life after death              1  \n",
       "404287                                     what thi coin              0  \n",
       "404288  i am have littl hairfal problem but i want to ...             0  \n",
       "404289      what is it like to have sex with your cousin              0  \n",
       "\n",
       "[404287 rows x 6 columns]"
      ]
     },
     "execution_count": 8,
     "metadata": {},
     "output_type": "execute_result"
    }
   ],
   "source": [
    "df['question1'] = df['question1'].apply(process_text)\n",
    "df['question2'] = df['question2'].apply(process_text)\n",
    "df"
   ]
  },
  {
   "cell_type": "markdown",
   "id": "e4dc6364-c65f-41de-803c-4d6d3204a34b",
   "metadata": {
    "jp-MarkdownHeadingCollapsed": true
   },
   "source": [
    "### Creating TFIDF vectors"
   ]
  },
  {
   "cell_type": "code",
   "execution_count": 9,
   "id": "d968e002-f39c-4b00-8dd6-78e3f033d5cc",
   "metadata": {},
   "outputs": [],
   "source": [
    "wektor_tf_idf_size = 5000"
   ]
  },
  {
   "cell_type": "code",
   "execution_count": 10,
   "id": "91f63a58-478c-4d53-b2a9-bce8e53105ad",
   "metadata": {},
   "outputs": [],
   "source": [
    "corpus = df['question1'].tolist() + df['question2'].tolist()\n",
    "\n",
    "model = TfidfVectorizer(max_features=wektor_tf_idf_size)\n",
    "tfidf_vectors = model.fit_transform(corpus)"
   ]
  },
  {
   "cell_type": "markdown",
   "id": "dbd3ba44-adcf-4393-a144-d70c6c086839",
   "metadata": {
    "jp-MarkdownHeadingCollapsed": true
   },
   "source": [
    "### Creating and splitting datasets"
   ]
  },
  {
   "cell_type": "code",
   "execution_count": 11,
   "id": "bedd59ce-4e54-4225-a03f-61c6590276db",
   "metadata": {},
   "outputs": [],
   "source": [
    "X1 = np.array([tfidf_vector for tfidf_vector in tfidf_vectors[:len(df)]])\n",
    "X2 = np.array([tfidf_vector for tfidf_vector in tfidf_vectors[len(df):]])\n",
    "y = np.array(df['is_duplicate'])"
   ]
  },
  {
   "cell_type": "code",
   "execution_count": 12,
   "id": "2fad71c3-2f39-40bc-8575-a65a9084b9a8",
   "metadata": {},
   "outputs": [],
   "source": [
    "X1_train, X1_test, X2_train, X2_test, y_train, y_test = train_test_split(X1, X2, y, test_size=0.2, random_state=42)"
   ]
  },
  {
   "cell_type": "code",
   "execution_count": 13,
   "id": "12a41ee4-5840-4d40-aebc-423a0881178f",
   "metadata": {},
   "outputs": [],
   "source": [
    "def data_generator(X1, X2, y, batch_size, epochs):\n",
    "    num_samples = X1.shape[0]\n",
    "    num_batches = int(np.ceil(num_samples / batch_size))\n",
    "    \n",
    "    for epoch in range(epochs):\n",
    "        for i in range(num_batches):\n",
    "            start_idx = i * batch_size\n",
    "            end_idx = min((i + 1) * batch_size, num_samples)\n",
    "    \n",
    "            batch_indices = np.arange(start_idx, end_idx)\n",
    "            X1_batch_sparse = X1[batch_indices]\n",
    "            X2_batch_sparse = X2[batch_indices]\n",
    "\n",
    "            X1_batch_dense = np.vstack([convert_to_dense(x) for x in X1_batch_sparse])\n",
    "            X2_batch_dense = np.vstack([convert_to_dense(x) for x in X2_batch_sparse])\n",
    "\n",
    "            y_batch = y[batch_indices]\n",
    "            \n",
    "            yield [X1_batch_dense, X2_batch_dense], y_batch\n",
    "\n",
    "def convert_to_dense(sparse_vector):\n",
    "    return sparse_vector.toarray().flatten()"
   ]
  },
  {
   "cell_type": "markdown",
   "id": "cdf943fc-bc04-439e-826f-379bcd8e9bb9",
   "metadata": {
    "jp-MarkdownHeadingCollapsed": true
   },
   "source": [
    "### Optuna"
   ]
  },
  {
   "cell_type": "raw",
   "id": "3e3397c5-fd2a-4d6f-a15a-693fc9df6d61",
   "metadata": {},
   "source": [
    "batch_size = 1024\n",
    "epochs = 20"
   ]
  },
  {
   "cell_type": "raw",
   "id": "6db95bc6-6c6d-4fbd-b41c-0f2662300117",
   "metadata": {},
   "source": [
    "def objective(trial):\n",
    "\n",
    "    params = {\n",
    "        'number_of_layers': trial.suggest_int('number_of_layers', 0, 4),\n",
    "        'dense_units': trial.suggest_int('dense_units', 16, 1024),\n",
    "        'dropout_rate': trial.suggest_float('dropout_rate', 0.2, 0.5),\n",
    "        'learning_rate': trial.suggest_float('learning_rate', 1e-4, 1e-2),\n",
    "    }\n",
    "\n",
    "    input_a = Input(shape=(wektor_tf_idf_size,))\n",
    "    input_b = Input(shape=(wektor_tf_idf_size,))\n",
    "\n",
    "    branch_a = Dense(params['dense_units'], activation='relu')(input_a)\n",
    "    branch_a = Dropout(params['dropout_rate'])(branch_a)\n",
    "    for i in range(params['number_of_layers']):\n",
    "        branch_a = Dense(params['dense_units'] // (2**(i+1)), activation='relu')(branch_a)\n",
    "        branch_a = Dropout(params['dropout_rate'])(branch_a)\n",
    "\n",
    "    branch_b = Dense(params['dense_units'], activation='relu')(input_b)\n",
    "    branch_b = Dropout(params['dropout_rate'])(branch_b)\n",
    "    for i in range(params['number_of_layers']):\n",
    "        branch_b = Dense(params['dense_units'] // (2**(i+1)), activation='relu')(branch_b)\n",
    "        branch_b = Dropout(params['dropout_rate'])(branch_b)\n",
    "\n",
    "    merged = Concatenate()([branch_a, branch_b])\n",
    "\n",
    "    merged = Dense(params['dense_units'], activation='relu')(merged)\n",
    "    merged = Dropout(params['dropout_rate'])(merged)\n",
    "    for i in range(params['number_of_layers']):\n",
    "        merged = Dense(params['dense_units'] // (2**(i+1)), activation='relu')(merged)\n",
    "        merged = Dropout(params['dropout_rate'])(merged)\n",
    "\n",
    "    output = Dense(1, activation='sigmoid')(merged)\n",
    "\n",
    "    model = Model(inputs=[input_a, input_b], outputs=output)\n",
    "\n",
    "    optimizer = Adam(learning_rate=params['learning_rate'])\n",
    "    model.compile(optimizer=optimizer, loss='binary_crossentropy', metrics=['accuracy'])\n",
    "\n",
    "    train_generator = data_generator(X1_train, X2_train, y_train, batch_size, epochs)\n",
    "    validation_generator = data_generator(X1_test, X2_test, y_test, batch_size, epochs)\n",
    "    steps_per_epoch = int(np.ceil(X1_train.shape[0] / batch_size))\n",
    "    validation_steps = int(np.ceil(X1_test.shape[0] / batch_size))\n",
    "\n",
    "    early_stopping = EarlyStopping(monitor='val_loss', patience=2, restore_best_weights=True)\n",
    "\n",
    "    model.fit(train_generator, epochs=epochs, steps_per_epoch=steps_per_epoch, validation_data=validation_generator, validation_steps=validation_steps, callbacks=[early_stopping], verbose=0)\n",
    "\n",
    "    validation_generator = data_generator(X1_test, X2_test, y_test, batch_size, epochs)\n",
    "    _, accuracy = model.evaluate(validation_generator)\n",
    "\n",
    "    return 1 - accuracy"
   ]
  },
  {
   "cell_type": "raw",
   "id": "ec748e31-07cf-4967-8290-83ce0c18ecdc",
   "metadata": {},
   "source": [
    "study = optuna.create_study(direction='minimize')\n",
    "study.optimize(objective, n_trials=20)\n",
    "\n",
    "print('Best trial:')\n",
    "print(study.best_trial.params)\n",
    "print('Minimum validation loss: {:.4f}'.format(study.best_trial.value))"
   ]
  },
  {
   "cell_type": "markdown",
   "id": "be9d9259-4396-44c5-9bd9-2830c6fa0534",
   "metadata": {},
   "source": [
    "### Final model"
   ]
  },
  {
   "cell_type": "code",
   "execution_count": 14,
   "id": "4581f95c-57e6-43f9-8ced-463c7054dcf1",
   "metadata": {},
   "outputs": [],
   "source": [
    "params = {\n",
    "    'number_of_layers': 1,\n",
    "    'dense_units': 512,\n",
    "    'dropout_rate': 0.5,\n",
    "    'learning_rate': 0.01,\n",
    "}"
   ]
  },
  {
   "cell_type": "code",
   "execution_count": 15,
   "id": "b3dadf78-8056-4727-909c-a2424f45a336",
   "metadata": {},
   "outputs": [
    {
     "name": "stderr",
     "output_type": "stream",
     "text": [
      "2024-01-29 21:04:58.650052: I tensorflow/compiler/xla/stream_executor/cuda/cuda_gpu_executor.cc:894] successful NUMA node read from SysFS had negative value (-1), but there must be at least one NUMA node, so returning NUMA node zero. See more at https://github.com/torvalds/linux/blob/v6.0/Documentation/ABI/testing/sysfs-bus-pci#L344-L355\n",
      "2024-01-29 21:04:58.669223: W tensorflow/core/common_runtime/gpu/gpu_device.cc:2211] Cannot dlopen some GPU libraries. Please make sure the missing libraries mentioned above are installed properly if you would like to use GPU. Follow the guide at https://www.tensorflow.org/install/gpu for how to download and setup the required libraries for your platform.\n",
      "Skipping registering GPU devices...\n"
     ]
    }
   ],
   "source": [
    "input_a = Input(shape=(wektor_tf_idf_size,))\n",
    "input_b = Input(shape=(wektor_tf_idf_size,))\n",
    "\n",
    "branch_a = Dense(params['dense_units'], activation='relu')(input_a)\n",
    "branch_a = Dropout(params['dropout_rate'])(branch_a)\n",
    "for i in range(params['number_of_layers']):\n",
    "    branch_a = Dense(params['dense_units'] // (2**(i+1)), activation='relu')(branch_a)\n",
    "    branch_a = Dropout(params['dropout_rate'])(branch_a)\n",
    "\n",
    "branch_b = Dense(params['dense_units'], activation='relu')(input_b)\n",
    "branch_b = Dropout(params['dropout_rate'])(branch_b)\n",
    "for i in range(params['number_of_layers']):\n",
    "    branch_b = Dense(params['dense_units'] // (2**(i+1)), activation='relu')(branch_b)\n",
    "    branch_b = Dropout(params['dropout_rate'])(branch_b)\n",
    "\n",
    "merged = Concatenate()([branch_a, branch_b])\n",
    "\n",
    "merged = Dense(params['dense_units'], activation='relu')(merged)\n",
    "merged = Dropout(params['dropout_rate'])(merged)\n",
    "for i in range(params['number_of_layers']):\n",
    "    merged = Dense(params['dense_units'] // (2**(i+1)), activation='relu')(merged)\n",
    "    merged = Dropout(params['dropout_rate'])(merged)\n",
    "\n",
    "output = Dense(1, activation='sigmoid')(merged)\n",
    "\n",
    "model = Model(inputs=[input_a, input_b], outputs=output)\n",
    "\n",
    "optimizer = Adam(learning_rate=params['learning_rate'])\n",
    "model.compile(optimizer=optimizer, loss='binary_crossentropy', metrics=['accuracy'])"
   ]
  },
  {
   "cell_type": "code",
   "execution_count": 16,
   "id": "aac97e81-b7be-4ae3-a1bd-940f490d22b5",
   "metadata": {},
   "outputs": [
    {
     "name": "stdout",
     "output_type": "stream",
     "text": [
      "Epoch 1/50\n",
      "316/316 [==============================] - 63s 196ms/step - loss: 0.5454 - accuracy: 0.7300 - val_loss: 0.5286 - val_accuracy: 0.7525\n",
      "Epoch 2/50\n",
      "316/316 [==============================] - 60s 190ms/step - loss: 0.4940 - accuracy: 0.7653 - val_loss: 0.5098 - val_accuracy: 0.7642\n",
      "Epoch 3/50\n",
      "316/316 [==============================] - 61s 194ms/step - loss: 0.4703 - accuracy: 0.7804 - val_loss: 0.4963 - val_accuracy: 0.7730\n",
      "Epoch 4/50\n",
      "316/316 [==============================] - 65s 206ms/step - loss: 0.4517 - accuracy: 0.7925 - val_loss: 0.4738 - val_accuracy: 0.7797\n",
      "Epoch 5/50\n",
      "316/316 [==============================] - 70s 222ms/step - loss: 0.4314 - accuracy: 0.8049 - val_loss: 0.4733 - val_accuracy: 0.7840\n",
      "Epoch 6/50\n",
      "316/316 [==============================] - 65s 207ms/step - loss: 0.4100 - accuracy: 0.8174 - val_loss: 0.4594 - val_accuracy: 0.7856\n",
      "Epoch 7/50\n",
      "316/316 [==============================] - 68s 214ms/step - loss: 0.3931 - accuracy: 0.8267 - val_loss: 0.4639 - val_accuracy: 0.7856\n",
      "Epoch 8/50\n",
      "316/316 [==============================] - 68s 216ms/step - loss: 0.3764 - accuracy: 0.8358 - val_loss: 0.4639 - val_accuracy: 0.7915\n",
      "Epoch 9/50\n",
      "316/316 [==============================] - 63s 198ms/step - loss: 0.3534 - accuracy: 0.8470 - val_loss: 0.4616 - val_accuracy: 0.7946\n",
      "Epoch 10/50\n",
      "316/316 [==============================] - 60s 190ms/step - loss: 0.3375 - accuracy: 0.8558 - val_loss: 0.4556 - val_accuracy: 0.7946\n",
      "Epoch 11/50\n",
      "316/316 [==============================] - 62s 195ms/step - loss: 0.3205 - accuracy: 0.8642 - val_loss: 0.4735 - val_accuracy: 0.7955\n",
      "Epoch 12/50\n",
      "316/316 [==============================] - 65s 204ms/step - loss: 0.3046 - accuracy: 0.8723 - val_loss: 0.4982 - val_accuracy: 0.7972\n",
      "Epoch 13/50\n",
      "316/316 [==============================] - 63s 199ms/step - loss: 0.2878 - accuracy: 0.8793 - val_loss: 0.4998 - val_accuracy: 0.7972\n",
      "Epoch 14/50\n",
      "316/316 [==============================] - 65s 204ms/step - loss: 0.2728 - accuracy: 0.8868 - val_loss: 0.4913 - val_accuracy: 0.7987\n",
      "Epoch 15/50\n",
      "316/316 [==============================] - 65s 206ms/step - loss: 0.2594 - accuracy: 0.8938 - val_loss: 0.5167 - val_accuracy: 0.8003\n"
     ]
    }
   ],
   "source": [
    "batch_size = 1024\n",
    "epochs = 50\n",
    "\n",
    "train_generator = data_generator(X1_train, X2_train, y_train, batch_size, epochs)\n",
    "validation_generator = data_generator(X1_test, X2_test, y_test, batch_size, epochs)\n",
    "\n",
    "steps_per_epoch = int(np.ceil(X1_train.shape[0] / batch_size))\n",
    "validation_steps = int(np.ceil(X1_test.shape[0] / batch_size))\n",
    "\n",
    "early_stopping = EarlyStopping(monitor='val_loss', patience=5, restore_best_weights=True)\n",
    "\n",
    "history = model.fit(train_generator, epochs=epochs, steps_per_epoch=steps_per_epoch, validation_data=validation_generator, validation_steps=validation_steps, callbacks=[early_stopping])"
   ]
  },
  {
   "cell_type": "code",
   "execution_count": 17,
   "id": "16fe5d5e-0388-49d4-bea1-58c335c4b163",
   "metadata": {},
   "outputs": [
    {
     "data": {
      "image/png": "[encoded data removed]",
      "text/plain": [
       "<Figure size 640x480 with 1 Axes>"
      ]
     },
     "metadata": {},
     "output_type": "display_data"
    },
    {
     "data": {
      "image/png": "[encoded data removed]",
      "text/plain": [
       "<Figure size 640x480 with 1 Axes>"
      ]
     },
     "metadata": {},
     "output_type": "display_data"
    }
   ],
   "source": [
    "plt.plot(history.history['loss'], label='Training Loss')\n",
    "plt.plot(history.history['val_loss'], label='Validation Loss')\n",
    "plt.title('Training and Validation Loss')\n",
    "plt.xlabel('Epoch')\n",
    "plt.ylabel('Loss')\n",
    "plt.legend()\n",
    "plt.show()\n",
    "\n",
    "plt.plot(history.history['accuracy'], label='Training Accuracy')\n",
    "plt.plot(history.history['val_accuracy'], label='Validation Accuracy')\n",
    "plt.title('Training and Validation Accuracy')\n",
    "plt.xlabel('Epoch')\n",
    "plt.ylabel('Accuracy')\n",
    "plt.legend()\n",
    "plt.show()"
   ]
  },
  {
   "cell_type": "code",
   "execution_count": 18,
   "id": "fcf6ba22-b3db-49f5-b777-f8b86290d93a",
   "metadata": {},
   "outputs": [
    {
     "name": "stdout",
     "output_type": "stream",
     "text": [
      "79/79 [==============================] - 7s 87ms/step\n",
      "Accuracy: 0.7945905167083035\n",
      "Classification Report:\n",
      "               precision    recall  f1-score   support\n",
      "\n",
      "           0       0.78      0.93      0.85     51026\n",
      "           1       0.83      0.56      0.67     29832\n",
      "\n",
      "    accuracy                           0.79     80858\n",
      "   macro avg       0.81      0.75      0.76     80858\n",
      "weighted avg       0.80      0.79      0.78     80858\n",
      "\n"
     ]
    },
    {
     "data": {
      "text/plain": [
       "<sklearn.metrics._plot.confusion_matrix.ConfusionMatrixDisplay at 0x7f8eab4cf0d0>"
      ]
     },
     "execution_count": 18,
     "metadata": {},
     "output_type": "execute_result"
    },
    {
     "data": {
      "image/png": "[encoded data removed]",
      "text/plain": [
       "<Figure size 640x480 with 2 Axes>"
      ]
     },
     "metadata": {},
     "output_type": "display_data"
    }
   ],
   "source": [
    "validation_generator = data_generator(X1_test, X2_test, y_test, batch_size, epochs)\n",
    "y_pred_prob = model.predict(validation_generator, steps=validation_steps)\n",
    "y_pred = (y_pred_prob > 0.5).astype(int)\n",
    "\n",
    "accuracy = accuracy_score(y_test, y_pred)\n",
    "print(f'Accuracy: {accuracy}')\n",
    "\n",
    "report = classification_report(y_test, y_pred)\n",
    "print('Classification Report:\\n', report)\n",
    "\n",
    "cm = confusion_matrix(y_test, y_pred)\n",
    "ConfusionMatrixDisplay(cm).plot()"
   ]
  },
  {
   "cell_type": "code",
   "execution_count": null,
   "id": "093df9ec-cb5e-4fff-bae7-c8d51c545aac",
   "metadata": {},
   "outputs": [],
   "source": []
  }
 ],
 "metadata": {
  "kernelspec": {
   "display_name": "Python 3 (ipykernel)",
   "language": "python",
   "name": "python3"
  },
  "language_info": {
   "codemirror_mode": {
    "name": "ipython",
    "version": 3
   },
   "file_extension": ".py",
   "mimetype": "text/x-python",
   "name": "python",
   "nbconvert_exporter": "python",
   "pygments_lexer": "ipython3",
   "version": "3.11.6"
  }
 },
 "nbformat": 4,
 "nbformat_minor": 5
}
